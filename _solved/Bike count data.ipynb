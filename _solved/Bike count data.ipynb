{
 "cells": [
  {
   "cell_type": "markdown",
   "metadata": {},
   "source": [
    "# CASE - Bike count data"
   ]
  },
  {
   "cell_type": "markdown",
   "metadata": {},
   "source": [
    "What you will learn:\n",
    "    \n",
    "- get data from an url\n",
    "- parsing date and time strings\n",
    "- make a function to automate loading and processing data \n",
    "- resample\n",
    "\n",
    "<img src=\"https://mobiliteit.stad.gent/sites/default/files/styles/thumb_epsa_330x220/public/media/fietstelpaal.jpg?itok=xNn8ylHV\">"
   ]
  },
  {
   "cell_type": "markdown",
   "metadata": {},
   "source": [
    "In this case study, we will make use of the freely available bike count data of the city of Ghent. At the Coupure Links, next to the Faculty of Bioscience Engineering, a counter keeps track of the number of passing cyclists in both directions.  \n",
    "Those data are available on the open data portal of the city: https://data.stad.gent/datasets/fietstellingen-coupure-201312-tot-201505"
   ]
  },
  {
   "cell_type": "code",
   "execution_count": 1,
   "metadata": {
    "collapsed": true
   },
   "outputs": [],
   "source": [
    "%matplotlib inline\n",
    "\n",
    "import pandas as pd\n",
    "import matplotlib.pyplot as plt"
   ]
  },
  {
   "cell_type": "markdown",
   "metadata": {},
   "source": [
    "## Reading and processing the data"
   ]
  },
  {
   "cell_type": "markdown",
   "metadata": {},
   "source": [
    "The data are avaible in CSV, JSON and XML format. We will make use of the CSV data. The link to download the data can be found on the webpage. For the first dataset, this is:\n",
    "\n",
    "    link1 = \"https://datatank.stad.gent/4/mobiliteit/fietstellingencoupure201210tot201403.csv\"\n",
    "\n",
    "Those datasets contain the historical data of the bike counters, and consist of the following columns:\n",
    "\n",
    "- The first column 'dag' is the date, in `dd.mm.yy` format\n",
    "- The second column 'tijdstip' is the time of the day, in `hh:mm:ss` format\n",
    "- The third and fourth column 'noord' and 'zuid' are the counts at that point in time (counts between this timestamp and the previous)\n",
    "- The fifth column indicates whether the device was active or not"
   ]
  },
  {
   "cell_type": "markdown",
   "metadata": {},
   "source": [
    "<div class=\"alert alert-success\">\n",
    "\n",
    " <ul>\n",
    "  <li>Read the csv file from the url into a DataFrame `df` </li>\n",
    "  <li>Inspect the first and last rows, and check the number of observations</li>\n",
    "  <li>Inspect the data types of the different columns</li>\n",
    "\n",
    "</ul> \n",
    "\n",
    "</div>"
   ]
  },
  {
   "cell_type": "code",
   "execution_count": 2,
   "metadata": {
    "collapsed": true
   },
   "outputs": [],
   "source": [
    "link1 = \"https://datatank.stad.gent/4/mobiliteit/fietstellingencoupure201210tot201403.csv\""
   ]
  },
  {
   "cell_type": "code",
   "execution_count": 3,
   "metadata": {
    "collapsed": true
   },
   "outputs": [],
   "source": [
    "df = pd.read_csv(link1 + '?limit=100000', sep=';')"
   ]
  },
  {
   "cell_type": "code",
   "execution_count": 4,
   "metadata": {
    "collapsed": false
   },
   "outputs": [
    {
     "data": {
      "text/html": [
       "<div>\n",
       "<table border=\"1\" class=\"dataframe\">\n",
       "  <thead>\n",
       "    <tr style=\"text-align: right;\">\n",
       "      <th></th>\n",
       "      <th>dag</th>\n",
       "      <th>tijdstip</th>\n",
       "      <th>noord</th>\n",
       "      <th>zuid</th>\n",
       "      <th>actief</th>\n",
       "    </tr>\n",
       "  </thead>\n",
       "  <tbody>\n",
       "    <tr>\n",
       "      <th>0</th>\n",
       "      <td>12.10.12</td>\n",
       "      <td>23:12:21</td>\n",
       "      <td>7</td>\n",
       "      <td>10</td>\n",
       "      <td>NaN</td>\n",
       "    </tr>\n",
       "    <tr>\n",
       "      <th>1</th>\n",
       "      <td>12.10.12</td>\n",
       "      <td>23:27:21</td>\n",
       "      <td>16</td>\n",
       "      <td>18</td>\n",
       "      <td>NaN</td>\n",
       "    </tr>\n",
       "    <tr>\n",
       "      <th>2</th>\n",
       "      <td>12.10.12</td>\n",
       "      <td>23:42:21</td>\n",
       "      <td>7</td>\n",
       "      <td>17</td>\n",
       "      <td>NaN</td>\n",
       "    </tr>\n",
       "    <tr>\n",
       "      <th>3</th>\n",
       "      <td>12.10.12</td>\n",
       "      <td>23:57:21</td>\n",
       "      <td>1</td>\n",
       "      <td>12</td>\n",
       "      <td>NaN</td>\n",
       "    </tr>\n",
       "    <tr>\n",
       "      <th>4</th>\n",
       "      <td>13.10.12</td>\n",
       "      <td>0:12:21</td>\n",
       "      <td>6</td>\n",
       "      <td>5</td>\n",
       "      <td>NaN</td>\n",
       "    </tr>\n",
       "  </tbody>\n",
       "</table>\n",
       "</div>"
      ],
      "text/plain": [
       "        dag  tijdstip  noord  zuid actief\n",
       "0  12.10.12  23:12:21      7    10    NaN\n",
       "1  12.10.12  23:27:21     16    18    NaN\n",
       "2  12.10.12  23:42:21      7    17    NaN\n",
       "3  12.10.12  23:57:21      1    12    NaN\n",
       "4  13.10.12   0:12:21      6     5    NaN"
      ]
     },
     "execution_count": 4,
     "metadata": {},
     "output_type": "execute_result"
    }
   ],
   "source": [
    "df.head()"
   ]
  },
  {
   "cell_type": "code",
   "execution_count": 5,
   "metadata": {
    "collapsed": false
   },
   "outputs": [
    {
     "data": {
      "text/html": [
       "<div>\n",
       "<table border=\"1\" class=\"dataframe\">\n",
       "  <thead>\n",
       "    <tr style=\"text-align: right;\">\n",
       "      <th></th>\n",
       "      <th>dag</th>\n",
       "      <th>tijdstip</th>\n",
       "      <th>noord</th>\n",
       "      <th>zuid</th>\n",
       "      <th>actief</th>\n",
       "    </tr>\n",
       "  </thead>\n",
       "  <tbody>\n",
       "    <tr>\n",
       "      <th>49995</th>\n",
       "      <td>17.03.14</td>\n",
       "      <td>16:05:09</td>\n",
       "      <td>47</td>\n",
       "      <td>62</td>\n",
       "      <td>NaN</td>\n",
       "    </tr>\n",
       "    <tr>\n",
       "      <th>49996</th>\n",
       "      <td>17.03.14</td>\n",
       "      <td>16:20:09</td>\n",
       "      <td>43</td>\n",
       "      <td>67</td>\n",
       "      <td>NaN</td>\n",
       "    </tr>\n",
       "    <tr>\n",
       "      <th>49997</th>\n",
       "      <td>17.03.14</td>\n",
       "      <td>16:35:09</td>\n",
       "      <td>41</td>\n",
       "      <td>100</td>\n",
       "      <td>NaN</td>\n",
       "    </tr>\n",
       "    <tr>\n",
       "      <th>49998</th>\n",
       "      <td>17.03.14</td>\n",
       "      <td>16:50:09</td>\n",
       "      <td>50</td>\n",
       "      <td>112</td>\n",
       "      <td>NaN</td>\n",
       "    </tr>\n",
       "    <tr>\n",
       "      <th>49999</th>\n",
       "      <td>17.03.14</td>\n",
       "      <td>17:05:09</td>\n",
       "      <td>64</td>\n",
       "      <td>98</td>\n",
       "      <td>NaN</td>\n",
       "    </tr>\n",
       "  </tbody>\n",
       "</table>\n",
       "</div>"
      ],
      "text/plain": [
       "            dag  tijdstip  noord  zuid actief\n",
       "49995  17.03.14  16:05:09     47    62    NaN\n",
       "49996  17.03.14  16:20:09     43    67    NaN\n",
       "49997  17.03.14  16:35:09     41   100    NaN\n",
       "49998  17.03.14  16:50:09     50   112    NaN\n",
       "49999  17.03.14  17:05:09     64    98    NaN"
      ]
     },
     "execution_count": 5,
     "metadata": {},
     "output_type": "execute_result"
    }
   ],
   "source": [
    "df.tail()"
   ]
  },
  {
   "cell_type": "code",
   "execution_count": 6,
   "metadata": {
    "collapsed": false
   },
   "outputs": [
    {
     "data": {
      "text/plain": [
       "50000"
      ]
     },
     "execution_count": 6,
     "metadata": {},
     "output_type": "execute_result"
    }
   ],
   "source": [
    "len(df)"
   ]
  },
  {
   "cell_type": "code",
   "execution_count": 7,
   "metadata": {
    "collapsed": false
   },
   "outputs": [
    {
     "data": {
      "text/plain": [
       "dag         object\n",
       "tijdstip    object\n",
       "noord        int64\n",
       "zuid         int64\n",
       "actief      object\n",
       "dtype: object"
      ]
     },
     "execution_count": 7,
     "metadata": {},
     "output_type": "execute_result"
    }
   ],
   "source": [
    "df.dtypes"
   ]
  },
  {
   "cell_type": "markdown",
   "metadata": {},
   "source": [
    "As explained above, the first and second column indicate the date and hour of the day. To obtain a time series, we have to combine those two columns into one series of actual datetime values. "
   ]
  },
  {
   "cell_type": "markdown",
   "metadata": {},
   "source": [
    "<div class=\"alert alert-success\">\n",
    "\n",
    "Process the data:\n",
    "\n",
    " <ul>\n",
    "  <li>Combine the 'dag' and 'tijdstip' columns into one Series of string datetime values </li>\n",
    "  <li>Parse the string datetime values</li>\n",
    "  <li>Set the resulting dates as the index</li>\n",
    "  <li>Remove the original 'dag' and 'tijdstip' columns</li>\n",
    "  <li>Rename the 'noord', 'zuid' and 'actief' columns to 'north', 'south' and 'active'</li>\n",
    "</ul> \n",
    "\n",
    "</div>"
   ]
  },
  {
   "cell_type": "code",
   "execution_count": 8,
   "metadata": {
    "collapsed": false
   },
   "outputs": [
    {
     "data": {
      "text/plain": [
       "0    12.10.12 23:12:21\n",
       "1    12.10.12 23:27:21\n",
       "2    12.10.12 23:42:21\n",
       "3    12.10.12 23:57:21\n",
       "4    13.10.12  0:12:21\n",
       "dtype: object"
      ]
     },
     "execution_count": 8,
     "metadata": {},
     "output_type": "execute_result"
    }
   ],
   "source": [
    "combined = df['dag'] + ' ' + df['tijdstip']\n",
    "combined.head()"
   ]
  },
  {
   "cell_type": "code",
   "execution_count": 9,
   "metadata": {
    "collapsed": false
   },
   "outputs": [],
   "source": [
    "df.index = pd.to_datetime(combined, dayfirst=True)"
   ]
  },
  {
   "cell_type": "code",
   "execution_count": 10,
   "metadata": {
    "collapsed": true
   },
   "outputs": [],
   "source": [
    "df = df.drop(['dag', 'tijdstip'], axis=1)"
   ]
  },
  {
   "cell_type": "code",
   "execution_count": 11,
   "metadata": {
    "collapsed": true
   },
   "outputs": [],
   "source": [
    "df = df.rename(columns={'noord': 'north', 'zuid':'south', 'actief': 'active'})"
   ]
  },
  {
   "cell_type": "code",
   "execution_count": 12,
   "metadata": {
    "collapsed": false
   },
   "outputs": [
    {
     "data": {
      "text/html": [
       "<div>\n",
       "<table border=\"1\" class=\"dataframe\">\n",
       "  <thead>\n",
       "    <tr style=\"text-align: right;\">\n",
       "      <th></th>\n",
       "      <th>north</th>\n",
       "      <th>south</th>\n",
       "      <th>active</th>\n",
       "    </tr>\n",
       "  </thead>\n",
       "  <tbody>\n",
       "    <tr>\n",
       "      <th>2012-10-12 23:12:21</th>\n",
       "      <td>7</td>\n",
       "      <td>10</td>\n",
       "      <td>NaN</td>\n",
       "    </tr>\n",
       "    <tr>\n",
       "      <th>2012-10-12 23:27:21</th>\n",
       "      <td>16</td>\n",
       "      <td>18</td>\n",
       "      <td>NaN</td>\n",
       "    </tr>\n",
       "    <tr>\n",
       "      <th>2012-10-12 23:42:21</th>\n",
       "      <td>7</td>\n",
       "      <td>17</td>\n",
       "      <td>NaN</td>\n",
       "    </tr>\n",
       "    <tr>\n",
       "      <th>2012-10-12 23:57:21</th>\n",
       "      <td>1</td>\n",
       "      <td>12</td>\n",
       "      <td>NaN</td>\n",
       "    </tr>\n",
       "    <tr>\n",
       "      <th>2012-10-13 00:12:21</th>\n",
       "      <td>6</td>\n",
       "      <td>5</td>\n",
       "      <td>NaN</td>\n",
       "    </tr>\n",
       "  </tbody>\n",
       "</table>\n",
       "</div>"
      ],
      "text/plain": [
       "                     north  south active\n",
       "2012-10-12 23:12:21      7     10    NaN\n",
       "2012-10-12 23:27:21     16     18    NaN\n",
       "2012-10-12 23:42:21      7     17    NaN\n",
       "2012-10-12 23:57:21      1     12    NaN\n",
       "2012-10-13 00:12:21      6      5    NaN"
      ]
     },
     "execution_count": 12,
     "metadata": {},
     "output_type": "execute_result"
    }
   ],
   "source": [
    "df.head()"
   ]
  },
  {
   "cell_type": "markdown",
   "metadata": {},
   "source": [
    "### Combine different datasets\n",
    "\n",
    "The bike count data are available in multiple datasets for several periods. "
   ]
  },
  {
   "cell_type": "code",
   "execution_count": 13,
   "metadata": {
    "collapsed": true
   },
   "outputs": [],
   "source": [
    "link1 = \"https://datatank.stad.gent/4/mobiliteit/fietstellingencoupure201210tot201403.csv\"\n",
    "link2 = \"https://datatank.stad.gent/4/mobiliteit/fietstellingencoupure201312tot201505.csv\""
   ]
  },
  {
   "cell_type": "markdown",
   "metadata": {},
   "source": [
    "To obtain the full time series, we will have to combine those datasets."
   ]
  },
  {
   "cell_type": "markdown",
   "metadata": {},
   "source": [
    "<div class=\"alert alert-success\">\n",
    "\n",
    " <ul>\n",
    "  <li>Write a small function `process_bike_count_data(df)` that performs the processing steps as done above</li>\n",
    "  <li>Use this function to read and process both sets of data</li>\n",
    "  <li>Concatenate both datasets (**attention!**: there is some overlap)</li>\n",
    "</ul> \n",
    "\n",
    "</div>"
   ]
  },
  {
   "cell_type": "code",
   "execution_count": 15,
   "metadata": {
    "collapsed": true
   },
   "outputs": [],
   "source": [
    "def process_bike_count_data(df):\n",
    "    \"\"\"\n",
    "    Process the provided dataframe: parse datetimes and rename columns.\n",
    "    \n",
    "    \"\"\"\n",
    "    df.index = pd.to_datetime(df['dag'] + ' ' + df['tijdstip'], dayfirst=True)\n",
    "    df = df.drop(['dag', 'tijdstip'], axis=1)\n",
    "    df = df.rename(columns={'noord': 'north', 'zuid':'south', 'actief': 'active'})\n",
    "    return df"
   ]
  },
  {
   "cell_type": "code",
   "execution_count": 16,
   "metadata": {
    "collapsed": true
   },
   "outputs": [],
   "source": [
    "df1 = pd.read_csv(link1 + '?limit=100000', sep=';')\n",
    "df1 = process_bike_count_data(df1)"
   ]
  },
  {
   "cell_type": "code",
   "execution_count": 17,
   "metadata": {
    "collapsed": false
   },
   "outputs": [],
   "source": [
    "df2 = pd.read_csv(link2 + '?limit=100000', sep=';')\n",
    "df2 = process_bike_count_data(df2)"
   ]
  },
  {
   "cell_type": "code",
   "execution_count": 18,
   "metadata": {
    "collapsed": false
   },
   "outputs": [
    {
     "data": {
      "text/html": [
       "<div>\n",
       "<table border=\"1\" class=\"dataframe\">\n",
       "  <thead>\n",
       "    <tr style=\"text-align: right;\">\n",
       "      <th></th>\n",
       "      <th>north</th>\n",
       "      <th>south</th>\n",
       "      <th>active</th>\n",
       "    </tr>\n",
       "  </thead>\n",
       "  <tbody>\n",
       "    <tr>\n",
       "      <th>2014-03-17 16:05:09</th>\n",
       "      <td>47</td>\n",
       "      <td>62</td>\n",
       "      <td>NaN</td>\n",
       "    </tr>\n",
       "    <tr>\n",
       "      <th>2014-03-17 16:20:09</th>\n",
       "      <td>43</td>\n",
       "      <td>67</td>\n",
       "      <td>NaN</td>\n",
       "    </tr>\n",
       "    <tr>\n",
       "      <th>2014-03-17 16:35:09</th>\n",
       "      <td>41</td>\n",
       "      <td>100</td>\n",
       "      <td>NaN</td>\n",
       "    </tr>\n",
       "    <tr>\n",
       "      <th>2014-03-17 16:50:09</th>\n",
       "      <td>50</td>\n",
       "      <td>112</td>\n",
       "      <td>NaN</td>\n",
       "    </tr>\n",
       "    <tr>\n",
       "      <th>2014-03-17 17:05:09</th>\n",
       "      <td>64</td>\n",
       "      <td>98</td>\n",
       "      <td>NaN</td>\n",
       "    </tr>\n",
       "  </tbody>\n",
       "</table>\n",
       "</div>"
      ],
      "text/plain": [
       "                     north  south active\n",
       "2014-03-17 16:05:09     47     62    NaN\n",
       "2014-03-17 16:20:09     43     67    NaN\n",
       "2014-03-17 16:35:09     41    100    NaN\n",
       "2014-03-17 16:50:09     50    112    NaN\n",
       "2014-03-17 17:05:09     64     98    NaN"
      ]
     },
     "execution_count": 18,
     "metadata": {},
     "output_type": "execute_result"
    }
   ],
   "source": [
    "df1.tail()"
   ]
  },
  {
   "cell_type": "code",
   "execution_count": 19,
   "metadata": {
    "collapsed": false
   },
   "outputs": [
    {
     "data": {
      "text/html": [
       "<div>\n",
       "<table border=\"1\" class=\"dataframe\">\n",
       "  <thead>\n",
       "    <tr style=\"text-align: right;\">\n",
       "      <th></th>\n",
       "      <th>north</th>\n",
       "      <th>south</th>\n",
       "      <th>active</th>\n",
       "    </tr>\n",
       "  </thead>\n",
       "  <tbody>\n",
       "    <tr>\n",
       "      <th>2014-03-17 17:20:09</th>\n",
       "      <td>80</td>\n",
       "      <td>102</td>\n",
       "      <td>NaN</td>\n",
       "    </tr>\n",
       "    <tr>\n",
       "      <th>2014-03-17 17:35:09</th>\n",
       "      <td>45</td>\n",
       "      <td>115</td>\n",
       "      <td>NaN</td>\n",
       "    </tr>\n",
       "    <tr>\n",
       "      <th>2014-03-17 17:50:09</th>\n",
       "      <td>60</td>\n",
       "      <td>141</td>\n",
       "      <td>NaN</td>\n",
       "    </tr>\n",
       "    <tr>\n",
       "      <th>2014-03-17 18:05:09</th>\n",
       "      <td>74</td>\n",
       "      <td>124</td>\n",
       "      <td>NaN</td>\n",
       "    </tr>\n",
       "    <tr>\n",
       "      <th>2014-03-17 18:20:09</th>\n",
       "      <td>76</td>\n",
       "      <td>146</td>\n",
       "      <td>NaN</td>\n",
       "    </tr>\n",
       "  </tbody>\n",
       "</table>\n",
       "</div>"
      ],
      "text/plain": [
       "                     north  south active\n",
       "2014-03-17 17:20:09     80    102    NaN\n",
       "2014-03-17 17:35:09     45    115    NaN\n",
       "2014-03-17 17:50:09     60    141    NaN\n",
       "2014-03-17 18:05:09     74    124    NaN\n",
       "2014-03-17 18:20:09     76    146    NaN"
      ]
     },
     "execution_count": 19,
     "metadata": {},
     "output_type": "execute_result"
    }
   ],
   "source": [
    "df2[\"2014-03-17 17:05:10\":].head()"
   ]
  },
  {
   "cell_type": "code",
   "execution_count": 20,
   "metadata": {
    "collapsed": true
   },
   "outputs": [],
   "source": [
    "df = pd.concat([df1, df2[\"2014-03-17 17:05:10\":]])"
   ]
  },
  {
   "cell_type": "code",
   "execution_count": 21,
   "metadata": {
    "collapsed": false
   },
   "outputs": [
    {
     "name": "stdout",
     "output_type": "stream",
     "text": [
      "<class 'pandas.core.frame.DataFrame'>\n",
      "DatetimeIndex: 91831 entries, 2012-10-12 23:12:21 to 2015-05-27 11:25:02\n",
      "Data columns (total 3 columns):\n",
      "north     91831 non-null int64\n",
      "south     91831 non-null int64\n",
      "active    26 non-null object\n",
      "dtypes: int64(2), object(1)\n",
      "memory usage: 2.8+ MB\n"
     ]
    }
   ],
   "source": [
    "df.info()"
   ]
  },
  {
   "cell_type": "markdown",
   "metadata": {},
   "source": [
    "## Explore"
   ]
  },
  {
   "cell_type": "markdown",
   "metadata": {},
   "source": [
    "We now have the combined and cleaned-up dataset of the bike counts at Coupure Links. But there are two more things we want to check. First, there is a column 'active' which indicates if the count device was working. "
   ]
  },
  {
   "cell_type": "markdown",
   "metadata": {},
   "source": [
    "<div class=\"alert alert-success\">\n",
    "\n",
    " <ul>\n",
    "  <li>What are the different occuring values of the 'active' column and how many times to they occur?</li>\n",
    "  <li>Remove all rows where the device was not working</li>\n",
    "</ul> \n",
    "\n",
    "</div>"
   ]
  },
  {
   "cell_type": "code",
   "execution_count": 22,
   "metadata": {
    "collapsed": false
   },
   "outputs": [
    {
     "data": {
      "text/plain": [
       "NaN    91805\n",
       "OFF       26\n",
       "Name: active, dtype: int64"
      ]
     },
     "execution_count": 22,
     "metadata": {},
     "output_type": "execute_result"
    }
   ],
   "source": [
    "df['active'].value_counts(dropna=False)"
   ]
  },
  {
   "cell_type": "code",
   "execution_count": 23,
   "metadata": {
    "collapsed": true
   },
   "outputs": [],
   "source": [
    "df = df[df['active'] != 'OFF']"
   ]
  },
  {
   "cell_type": "markdown",
   "metadata": {},
   "source": [
    "Secondly, the number of bikers are counted for intervals of approximately 15min. But let's check if this is indeed the case.  \n",
    "For this, we want to calculate the difference between each of the consecutive values of the index. We can use the `Series.diff()` method:"
   ]
  },
  {
   "cell_type": "code",
   "execution_count": 24,
   "metadata": {
    "collapsed": false
   },
   "outputs": [
    {
     "data": {
      "text/plain": [
       "0            NaT\n",
       "1       00:15:00\n",
       "2       00:15:00\n",
       "3       00:15:00\n",
       "4       00:15:00\n",
       "5       00:15:00\n",
       "6       00:15:00\n",
       "7       00:15:00\n",
       "8       00:15:00\n",
       "9       00:15:00\n",
       "10      00:15:00\n",
       "11      00:15:00\n",
       "12      00:15:00\n",
       "13      00:15:00\n",
       "14      00:15:00\n",
       "15      00:15:00\n",
       "16      00:15:00\n",
       "17      00:15:00\n",
       "18      00:15:00\n",
       "19      00:15:00\n",
       "20      00:15:00\n",
       "21      00:15:00\n",
       "22      00:15:00\n",
       "23      00:15:00\n",
       "24      00:15:00\n",
       "25      00:15:00\n",
       "26      00:15:00\n",
       "27      00:15:00\n",
       "28      00:15:00\n",
       "29      00:15:00\n",
       "          ...   \n",
       "91775   00:15:00\n",
       "91776   00:15:00\n",
       "91777   00:15:00\n",
       "91778   00:15:00\n",
       "91779   00:15:00\n",
       "91780   00:15:00\n",
       "91781   00:15:00\n",
       "91782   00:15:00\n",
       "91783   00:15:00\n",
       "91784   00:15:00\n",
       "91785   00:15:00\n",
       "91786   00:15:00\n",
       "91787   00:15:00\n",
       "91788   00:15:00\n",
       "91789   00:15:00\n",
       "91790   00:15:00\n",
       "91791   00:15:00\n",
       "91792   00:15:00\n",
       "91793   00:15:00\n",
       "91794   00:15:00\n",
       "91795   00:15:00\n",
       "91796   00:15:00\n",
       "91797   00:15:00\n",
       "91798   00:15:00\n",
       "91799   00:15:00\n",
       "91800   00:15:00\n",
       "91801   00:15:00\n",
       "91802   00:15:00\n",
       "91803   00:15:00\n",
       "91804   00:15:00\n",
       "dtype: timedelta64[ns]"
      ]
     },
     "execution_count": 24,
     "metadata": {},
     "output_type": "execute_result"
    }
   ],
   "source": [
    "pd.Series(df.index).diff()"
   ]
  },
  {
   "cell_type": "code",
   "execution_count": 25,
   "metadata": {
    "collapsed": false
   },
   "outputs": [
    {
     "data": {
      "text/plain": [
       "00:15:00             91772\n",
       "-1 days +23:15:01        3\n",
       "01:15:01                 3\n",
       "00:28:03                 1\n",
       "00:27:57                 1\n",
       "00:21:33                 1\n",
       "00:18:18                 1\n",
       "00:46:54                 1\n",
       "00:23:40                 1\n",
       "00:26:02                 1\n",
       "00:44:40                 1\n",
       "00:27:59                 1\n",
       "00:18:01                 1\n",
       "00:23:18                 1\n",
       "00:24:57                 1\n",
       "00:37:35                 1\n",
       "00:25:25                 1\n",
       "00:21:25                 1\n",
       "00:20:26                 1\n",
       "00:41:03                 1\n",
       "00:19:05                 1\n",
       "00:27:37                 1\n",
       "00:24:32                 1\n",
       "00:22:33                 1\n",
       "00:43:15                 1\n",
       "00:26:01                 1\n",
       "00:27:35                 1\n",
       "00:15:20                 1\n",
       "00:19:21                 1\n",
       "dtype: int64"
      ]
     },
     "execution_count": 25,
     "metadata": {},
     "output_type": "execute_result"
    }
   ],
   "source": [
    "pd.Series(df.index).diff().value_counts()"
   ]
  },
  {
   "cell_type": "markdown",
   "metadata": {},
   "source": [
    "There are a few records that is not exactly 15min. But given it are only a few ones, we will ignore this for the current case study.  \n",
    "Bonus question: do you know where the values of `-1 days +23:15:01` and `01:15:01` are coming from?"
   ]
  },
  {
   "cell_type": "code",
   "execution_count": 26,
   "metadata": {
    "collapsed": false
   },
   "outputs": [
    {
     "data": {
      "text/html": [
       "<div>\n",
       "<table border=\"1\" class=\"dataframe\">\n",
       "  <thead>\n",
       "    <tr style=\"text-align: right;\">\n",
       "      <th></th>\n",
       "      <th>north</th>\n",
       "      <th>south</th>\n",
       "    </tr>\n",
       "  </thead>\n",
       "  <tbody>\n",
       "    <tr>\n",
       "      <th>count</th>\n",
       "      <td>91805.000000</td>\n",
       "      <td>91805.000000</td>\n",
       "    </tr>\n",
       "    <tr>\n",
       "      <th>mean</th>\n",
       "      <td>25.240935</td>\n",
       "      <td>25.101628</td>\n",
       "    </tr>\n",
       "    <tr>\n",
       "      <th>std</th>\n",
       "      <td>31.458288</td>\n",
       "      <td>26.690699</td>\n",
       "    </tr>\n",
       "    <tr>\n",
       "      <th>min</th>\n",
       "      <td>0.000000</td>\n",
       "      <td>0.000000</td>\n",
       "    </tr>\n",
       "    <tr>\n",
       "      <th>25%</th>\n",
       "      <td>5.000000</td>\n",
       "      <td>6.000000</td>\n",
       "    </tr>\n",
       "    <tr>\n",
       "      <th>50%</th>\n",
       "      <td>17.000000</td>\n",
       "      <td>17.000000</td>\n",
       "    </tr>\n",
       "    <tr>\n",
       "      <th>75%</th>\n",
       "      <td>33.000000</td>\n",
       "      <td>33.000000</td>\n",
       "    </tr>\n",
       "    <tr>\n",
       "      <th>max</th>\n",
       "      <td>361.000000</td>\n",
       "      <td>299.000000</td>\n",
       "    </tr>\n",
       "  </tbody>\n",
       "</table>\n",
       "</div>"
      ],
      "text/plain": [
       "              north         south\n",
       "count  91805.000000  91805.000000\n",
       "mean      25.240935     25.101628\n",
       "std       31.458288     26.690699\n",
       "min        0.000000      0.000000\n",
       "25%        5.000000      6.000000\n",
       "50%       17.000000     17.000000\n",
       "75%       33.000000     33.000000\n",
       "max      361.000000    299.000000"
      ]
     },
     "execution_count": 26,
     "metadata": {},
     "output_type": "execute_result"
    }
   ],
   "source": [
    "df.describe()"
   ]
  },
  {
   "cell_type": "markdown",
   "metadata": {},
   "source": [
    "<div class=\"alert alert-success\">\n",
    "\n",
    "**QUESTION**: What is the average number of bikers passing each 15 min? And each hour?\n",
    "\n",
    "</div>"
   ]
  },
  {
   "cell_type": "code",
   "execution_count": 27,
   "metadata": {
    "collapsed": false
   },
   "outputs": [
    {
     "data": {
      "text/plain": [
       "north     25.240935\n",
       "south     25.101628\n",
       "active          NaN\n",
       "dtype: float64"
      ]
     },
     "execution_count": 27,
     "metadata": {},
     "output_type": "execute_result"
    }
   ],
   "source": [
    "df.mean()"
   ]
  },
  {
   "cell_type": "code",
   "execution_count": 28,
   "metadata": {
    "collapsed": false
   },
   "outputs": [
    {
     "data": {
      "text/plain": [
       "north    100.951642\n",
       "south    100.394485\n",
       "dtype: float64"
      ]
     },
     "execution_count": 28,
     "metadata": {},
     "output_type": "execute_result"
    }
   ],
   "source": [
    "df.resample('H').sum().mean()"
   ]
  },
  {
   "cell_type": "markdown",
   "metadata": {},
   "source": [
    "<div class=\"alert alert-success\">\n",
    "\n",
    "**QUESTION**: What are the highest peak values observed?\n",
    "\n",
    "</div>"
   ]
  },
  {
   "cell_type": "code",
   "execution_count": 29,
   "metadata": {
    "collapsed": false
   },
   "outputs": [
    {
     "data": {
      "text/plain": [
       "2013-10-16 21:38:28    361\n",
       "2014-09-23 08:57:42    333\n",
       "2013-10-03 08:49:43    318\n",
       "2014-09-30 08:50:15    315\n",
       "2013-09-23 08:34:43    314\n",
       "2013-09-24 08:34:43    313\n",
       "2014-09-24 08:57:42    313\n",
       "2013-06-05 03:37:45    303\n",
       "2013-09-25 08:49:43    303\n",
       "2014-09-22 08:57:42    303\n",
       "Name: north, dtype: int64"
      ]
     },
     "execution_count": 29,
     "metadata": {},
     "output_type": "execute_result"
    }
   ],
   "source": [
    "df['north'].nlargest(10)"
   ]
  },
  {
   "cell_type": "markdown",
   "metadata": {},
   "source": [
    "<div class=\"alert alert-success\">\n",
    "\n",
    "**QUESTION**: What is the maximum number of cyclist that passed on a single day (both directions combined)?\n",
    "\n",
    "</div>"
   ]
  },
  {
   "cell_type": "code",
   "execution_count": 30,
   "metadata": {
    "collapsed": true
   },
   "outputs": [],
   "source": [
    "df_both = df.sum(axis=1)"
   ]
  },
  {
   "cell_type": "code",
   "execution_count": 31,
   "metadata": {
    "collapsed": true
   },
   "outputs": [],
   "source": [
    "df_daily = df_both.resample('D').sum()"
   ]
  },
  {
   "cell_type": "code",
   "execution_count": 32,
   "metadata": {
    "collapsed": false
   },
   "outputs": [
    {
     "data": {
      "text/plain": [
       "10269.0"
      ]
     },
     "execution_count": 32,
     "metadata": {},
     "output_type": "execute_result"
    }
   ],
   "source": [
    "df_daily.max()"
   ]
  },
  {
   "cell_type": "code",
   "execution_count": 33,
   "metadata": {
    "collapsed": false
   },
   "outputs": [
    {
     "data": {
      "text/plain": [
       "2014-11-05    10269.0\n",
       "2013-06-05    10041.0\n",
       "2013-10-16     9948.0\n",
       "2012-10-30     9820.0\n",
       "2014-09-30     9702.0\n",
       "dtype: float64"
      ]
     },
     "execution_count": 33,
     "metadata": {},
     "output_type": "execute_result"
    }
   ],
   "source": [
    "df_daily.nlargest()"
   ]
  },
  {
   "cell_type": "markdown",
   "metadata": {},
   "source": [
    "2013-06-05 was the first time more than 10,000 bikers passed on one day. Apparanlty, this was not just by coincidence... http://www.nieuwsblad.be/cnt/dmf20130605_022"
   ]
  },
  {
   "cell_type": "markdown",
   "metadata": {},
   "source": [
    "<div class=\"alert alert-success\">\n",
    "\n",
    "**QUESTION**: How does the long-term trend look like? Calculate monthly sums and plot the result.\n",
    "\n",
    "</div>"
   ]
  },
  {
   "cell_type": "code",
   "execution_count": 34,
   "metadata": {
    "collapsed": false,
    "scrolled": false
   },
   "outputs": [
    {
     "data": {
      "text/plain": [
       "<matplotlib.axes._subplots.AxesSubplot at 0x7faf60066748>"
      ]
     },
     "execution_count": 34,
     "metadata": {},
     "output_type": "execute_result"
    },
    {
     "data": {
      "image/png": "[encoded data removed]",
      "text/plain": [
       "<matplotlib.figure.Figure at 0x7faf60063438>"
      ]
     },
     "metadata": {},
     "output_type": "display_data"
    }
   ],
   "source": [
    "df_monthly = df.resample('M').sum()\n",
    "df_monthly.plot()"
   ]
  },
  {
   "cell_type": "markdown",
   "metadata": {},
   "source": [
    "<div class=\"alert alert-success\">\n",
    "\n",
    "**QUESTION**: Let's have a look at some short term patterns. Select the data of the first 3 weeks of January 2014, calculate the hourly counts and visualize them.\n",
    "\n",
    "</div>"
   ]
  },
  {
   "cell_type": "code",
   "execution_count": 35,
   "metadata": {
    "collapsed": true
   },
   "outputs": [],
   "source": [
    "df_hourly = df.resample('H').sum()"
   ]
  },
  {
   "cell_type": "code",
   "execution_count": 36,
   "metadata": {
    "collapsed": false
   },
   "outputs": [
    {
     "data": {
      "text/html": [
       "<div>\n",
       "<table border=\"1\" class=\"dataframe\">\n",
       "  <thead>\n",
       "    <tr style=\"text-align: right;\">\n",
       "      <th></th>\n",
       "      <th>north</th>\n",
       "      <th>south</th>\n",
       "    </tr>\n",
       "  </thead>\n",
       "  <tbody>\n",
       "    <tr>\n",
       "      <th>2012-10-12 23:00:00</th>\n",
       "      <td>31.0</td>\n",
       "      <td>57.0</td>\n",
       "    </tr>\n",
       "    <tr>\n",
       "      <th>2012-10-13 00:00:00</th>\n",
       "      <td>28.0</td>\n",
       "      <td>46.0</td>\n",
       "    </tr>\n",
       "    <tr>\n",
       "      <th>2012-10-13 01:00:00</th>\n",
       "      <td>23.0</td>\n",
       "      <td>34.0</td>\n",
       "    </tr>\n",
       "    <tr>\n",
       "      <th>2012-10-13 02:00:00</th>\n",
       "      <td>16.0</td>\n",
       "      <td>36.0</td>\n",
       "    </tr>\n",
       "    <tr>\n",
       "      <th>2012-10-13 03:00:00</th>\n",
       "      <td>3.0</td>\n",
       "      <td>16.0</td>\n",
       "    </tr>\n",
       "  </tbody>\n",
       "</table>\n",
       "</div>"
      ],
      "text/plain": [
       "                     north  south\n",
       "2012-10-12 23:00:00   31.0   57.0\n",
       "2012-10-13 00:00:00   28.0   46.0\n",
       "2012-10-13 01:00:00   23.0   34.0\n",
       "2012-10-13 02:00:00   16.0   36.0\n",
       "2012-10-13 03:00:00    3.0   16.0"
      ]
     },
     "execution_count": 36,
     "metadata": {},
     "output_type": "execute_result"
    }
   ],
   "source": [
    "df_hourly.head()"
   ]
  },
  {
   "cell_type": "code",
   "execution_count": 37,
   "metadata": {
    "collapsed": false
   },
   "outputs": [
    {
     "data": {
      "text/plain": [
       "<matplotlib.axes._subplots.AxesSubplot at 0x7faf588b1358>"
      ]
     },
     "execution_count": 37,
     "metadata": {},
     "output_type": "execute_result"
    },
    {
     "data": {
      "image/png": "[encoded data removed]",
      "text/plain": [
       "<matplotlib.figure.Figure at 0x7faf5884d160>"
      ]
     },
     "metadata": {},
     "output_type": "display_data"
    }
   ],
   "source": [
    "df_hourly['2014-01-01':'2014-01-20'].plot()"
   ]
  },
  {
   "cell_type": "markdown",
   "metadata": {},
   "source": [
    "---\n",
    "\n",
    "Looking at the data in the above exercises, there seems to be clearly a:\n",
    "\n",
    "- daily pattern\n",
    "- weekly pattern\n",
    "- yearly pattern\n",
    "\n",
    "Such patterns can easily be calculated and visualized in pandas using the DatetimeIndex attributes `weekday` combined with `groupby` functionality. Below a taste of the possibilities, and we will learn about this in a later notebook:"
   ]
  },
  {
   "cell_type": "markdown",
   "metadata": {},
   "source": [
    "Weekly pattern:"
   ]
  },
  {
   "cell_type": "code",
   "execution_count": 38,
   "metadata": {
    "collapsed": true
   },
   "outputs": [],
   "source": [
    "df_daily = df.resample('D').sum()"
   ]
  },
  {
   "cell_type": "code",
   "execution_count": 39,
   "metadata": {
    "collapsed": false,
    "scrolled": true
   },
   "outputs": [
    {
     "data": {
      "text/plain": [
       "<matplotlib.axes._subplots.AxesSubplot at 0x7faf588485c0>"
      ]
     },
     "execution_count": 39,
     "metadata": {},
     "output_type": "execute_result"
    },
    {
     "data": {
      "image/png": "[encoded data removed]",
      "text/plain": [
       "<matplotlib.figure.Figure at 0x7faf58767dd8>"
      ]
     },
     "metadata": {},
     "output_type": "display_data"
    }
   ],
   "source": [
    "df_daily.groupby(df_daily.index.weekday).mean().plot(kind='bar')"
   ]
  },
  {
   "cell_type": "markdown",
   "metadata": {},
   "source": [
    "Daily pattern:"
   ]
  },
  {
   "cell_type": "code",
   "execution_count": 40,
   "metadata": {
    "collapsed": false
   },
   "outputs": [
    {
     "data": {
      "text/plain": [
       "<matplotlib.axes._subplots.AxesSubplot at 0x7faf58731fd0>"
      ]
     },
     "execution_count": 40,
     "metadata": {},
     "output_type": "execute_result"
    },
    {
     "data": {
      "image/png": "[encoded data removed]",
      "text/plain": [
       "<matplotlib.figure.Figure at 0x7faf586c2b38>"
      ]
     },
     "metadata": {},
     "output_type": "display_data"
    }
   ],
   "source": [
    "df_hourly.groupby(df_hourly.index.hour).mean().plot()"
   ]
  },
  {
   "cell_type": "markdown",
   "metadata": {},
   "source": [
    "So the daily pattern is clearly different for both directions. In the morning more people go north, in the evening more people go south. The morning peak is also more condensed."
   ]
  },
  {
   "cell_type": "code",
   "execution_count": 41,
   "metadata": {
    "collapsed": true
   },
   "outputs": [],
   "source": [
    "df_monthly = df.resample('M').sum()"
   ]
  },
  {
   "cell_type": "code",
   "execution_count": 42,
   "metadata": {
    "collapsed": false
   },
   "outputs": [
    {
     "data": {
      "text/plain": [
       "<matplotlib.axes._subplots.AxesSubplot at 0x7faf5869ca90>"
      ]
     },
     "execution_count": 42,
     "metadata": {},
     "output_type": "execute_result"
    },
    {
     "data": {
      "image/png": "[encoded data removed]",
      "text/plain": [
       "<matplotlib.figure.Figure at 0x7faf58757f28>"
      ]
     },
     "metadata": {},
     "output_type": "display_data"
    }
   ],
   "source": [
    "df_monthly.groupby(df_monthly.index.month).mean().plot()"
   ]
  },
  {
   "cell_type": "code",
   "execution_count": null,
   "metadata": {
    "collapsed": true
   },
   "outputs": [],
   "source": []
  }
 ],
 "metadata": {
  "kernelspec": {
   "display_name": "Python 3",
   "language": "python",
   "name": "python3"
  },
  "language_info": {
   "codemirror_mode": {
    "name": "ipython",
    "version": 3
   },
   "file_extension": ".py",
   "mimetype": "text/x-python",
   "name": "python",
   "nbconvert_exporter": "python",
   "pygments_lexer": "ipython3",
   "version": "3.5.2"
  },
  "nav_menu": {},
  "toc": {
   "navigate_menu": true,
   "number_sections": false,
   "sideBar": true,
   "threshold": 6,
   "toc_cell": false,
   "toc_section_display": "block",
   "toc_window_display": true
  }
 },
 "nbformat": 4,
 "nbformat_minor": 0
}
